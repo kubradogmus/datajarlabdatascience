{
 "cells": [
  {
   "cell_type": "markdown",
   "id": "willing-uganda",
   "metadata": {},
   "source": [
    "1.SORU CEVABI"
   ]
  },
  {
   "cell_type": "code",
   "execution_count": null,
   "id": "printable-pharmacology",
   "metadata": {},
   "outputs": [],
   "source": [
    "Celsius =float(input(\"sıcaklık değeri giriniz : \"))"
   ]
  },
  {
   "cell_type": "code",
   "execution_count": null,
   "id": "alternative-sydney",
   "metadata": {},
   "outputs": [],
   "source": [
    "Fahrenheit = (Celsius * 9/5) + 32"
   ]
  },
  {
   "cell_type": "code",
   "execution_count": null,
   "id": "improved-criminal",
   "metadata": {},
   "outputs": [],
   "source": [
    "print(Fahrenheit)"
   ]
  },
  {
   "cell_type": "code",
   "execution_count": null,
   "id": "appreciated-brave",
   "metadata": {},
   "outputs": [],
   "source": [
    "Fahrenheit =float(input(\"sıcaklık değeri giriniz : \"))"
   ]
  },
  {
   "cell_type": "code",
   "execution_count": null,
   "id": "forty-friend",
   "metadata": {},
   "outputs": [],
   "source": [
    "Celsius = (Fahrenheit - 32) * 5/9\n"
   ]
  },
  {
   "cell_type": "code",
   "execution_count": null,
   "id": "packed-lightweight",
   "metadata": {},
   "outputs": [],
   "source": [
    "print(Celsius)"
   ]
  },
  {
   "cell_type": "markdown",
   "id": "controlling-hammer",
   "metadata": {},
   "source": [
    "  2. SORU CEVABI\n",
    "  \n",
    "  "
   ]
  },
  {
   "cell_type": "code",
   "execution_count": null,
   "id": "strategic-fundamental",
   "metadata": {},
   "outputs": [],
   "source": [
    "word = input(\"enter your word to be reversed \")\n"
   ]
  },
  {
   "cell_type": "code",
   "execution_count": null,
   "id": "standard-appendix",
   "metadata": {},
   "outputs": [],
   "source": [
    "print(\"İsminizin tersten yazılışı : \",word[::-1])"
   ]
  },
  {
   "cell_type": "markdown",
   "id": "monthly-desert",
   "metadata": {},
   "source": [
    "3.Soru cevabı"
   ]
  },
  {
   "cell_type": "code",
   "execution_count": 4,
   "id": "controversial-scotland",
   "metadata": {},
   "outputs": [
    {
     "name": "stdout",
     "output_type": "stream",
     "text": [
      "Ne kadar devam etsin50\n"
     ]
    }
   ],
   "source": [
    "number = int(input(\"Ne kadar devam etsin\"))\n"
   ]
  },
  {
   "cell_type": "code",
   "execution_count": 5,
   "id": "comparative-trust",
   "metadata": {},
   "outputs": [],
   "source": [
    "a = 1\n",
    "b = 1\n",
    "fibonacci = [a,b]\n",
    "for i in range(number):\n",
    "    a,b = b,a+b \n",
    "    fibonacci.append(b) \n"
   ]
  },
  {
   "cell_type": "code",
   "execution_count": 6,
   "id": "expressed-cedar",
   "metadata": {},
   "outputs": [
    {
     "name": "stdout",
     "output_type": "stream",
     "text": [
      "[1, 1, 2, 3, 5, 8, 13, 21, 34, 55, 89, 144, 233, 377, 610, 987, 1597, 2584, 4181, 6765, 10946, 17711, 28657, 46368, 75025, 121393, 196418, 317811, 514229, 832040, 1346269, 2178309, 3524578, 5702887, 9227465, 14930352, 24157817, 39088169, 63245986, 102334155, 165580141, 267914296, 433494437, 701408733, 1134903170, 1836311903, 2971215073, 4807526976, 7778742049, 12586269025, 20365011074, 32951280099]\n"
     ]
    }
   ],
   "source": [
    "print(fibonacci)"
   ]
  },
  {
   "cell_type": "code",
   "execution_count": 12,
   "id": "fitting-nudist",
   "metadata": {},
   "outputs": [
    {
     "name": "stdout",
     "output_type": "stream",
     "text": [
      "1 x 6 = 6\n",
      "2 x 6 = 12\n",
      "3 x 6 = 18\n",
      "4 x 6 = 24\n",
      "5 x 6 = 30\n",
      "6 x 6 = 36\n",
      "7 x 6 = 42\n",
      "8 x 6 = 48\n",
      "9 x 6 = 54\n"
     ]
    }
   ],
   "source": [
    "y = 6\n",
    "for x  in range (1,10):\n",
    "        print(x,\"x\",y,\"=\",x*y)"
   ]
  },
  {
   "cell_type": "code",
   "execution_count": 14,
   "id": "raised-delaware",
   "metadata": {},
   "outputs": [
    {
     "name": "stdout",
     "output_type": "stream",
     "text": [
      "[1, 4, 27, 16, 125, 36, 343, 64, 729, 100, 1331, 144, 2197, 196, 3375, 256, 4913, 324, 6859]\n"
     ]
    }
   ],
   "source": [
    "yeni_liste = [x**2 if x % 2 == 0 else x**3 for x in range(1,20)]\n",
    "\n",
    "print(yeni_liste)"
   ]
  },
  {
   "cell_type": "code",
   "execution_count": null,
   "id": "tender-region",
   "metadata": {},
   "outputs": [],
   "source": []
  }
 ],
 "metadata": {
  "kernelspec": {
   "display_name": "Python 3",
   "language": "python",
   "name": "python3"
  },
  "language_info": {
   "codemirror_mode": {
    "name": "ipython",
    "version": 3
   },
   "file_extension": ".py",
   "mimetype": "text/x-python",
   "name": "python",
   "nbconvert_exporter": "python",
   "pygments_lexer": "ipython3",
   "version": "3.8.7rc1"
  }
 },
 "nbformat": 4,
 "nbformat_minor": 5
}
