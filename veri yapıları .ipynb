{
 "cells": [
  {
   "cell_type": "code",
   "execution_count": 75,
   "id": "virgin-overall",
   "metadata": {},
   "outputs": [],
   "source": [
    "days = {\"pazartesi\":\"1.gün\",\n",
    "        \"sali\":\"2.gün\",\n",
    "        \"çarşamba\":\"3.gün\",\n",
    "        \"perşembe\":\"4.gün\",\n",
    "        \"cuma\":\"5.gün\",\n",
    "        \"cumartesi\":\"6.gün\",\n",
    "        \"pazar\":\"7.gün\" }"
   ]
  },
  {
   "cell_type": "code",
   "execution_count": 76,
   "id": "patent-cleaners",
   "metadata": {},
   "outputs": [
    {
     "name": "stdout",
     "output_type": "stream",
     "text": [
      "Lütfen gün seçiniz:  1\n",
      "Lütfen farklı bir gün seçiniz : 2\n"
     ]
    }
   ],
   "source": [
    "day_1 = input('Lütfen gün seçiniz:  ')\n",
    "day_2 = input('Lütfen farklı bir gün seçiniz : ')\n",
    "\n"
   ]
  },
  {
   "cell_type": "code",
   "execution_count": 77,
   "id": "offensive-marker",
   "metadata": {
    "scrolled": true
   },
   "outputs": [],
   "source": [
    "if(day_1 == \"1\" or day_2 ==\"1\"):\n",
    " del days[\"pazartesi\"]\n",
    "if(day_1 == \"2\" or day_2 ==\"2\"):\n",
    " del days[\"sali\"]\n",
    "if(day_1 == \"3\" or day_2 ==\"3\"):\n",
    " del days[\"çarşamba\"]\n",
    "if(day_1 == \"4\" or day_2 ==\"4\"):\n",
    " del days[\"perşembe\"]\n",
    "if(day_1 == \"5\" or day_2 ==\"5\"):\n",
    " del days[\"cuma\"]\n",
    "if(day_1 == \"6\" or day_2 ==\"6\"):\n",
    " del days[\"cumartesi\"]\n",
    "if(day_1 == \"7\"or day_2 ==\"7\"):\n",
    " del days[\"pazar\"]\n",
    "\n"
   ]
  },
  {
   "cell_type": "code",
   "execution_count": 78,
   "id": "commercial-television",
   "metadata": {},
   "outputs": [
    {
     "name": "stdout",
     "output_type": "stream",
     "text": [
      "{'çarşamba': '3.gün', 'perşembe': '4.gün', 'cuma': '5.gün', 'cumartesi': '6.gün', 'pazar': '7.gün'}\n"
     ]
    }
   ],
   "source": [
    " print(days)"
   ]
  },
  {
   "cell_type": "code",
   "execution_count": 80,
   "id": "complete-brazilian",
   "metadata": {},
   "outputs": [],
   "source": [
    "Aylar = ['Ocak', 'Şubat', 'Mart', 'Nisan', 'Mayıs', 'Haziran', 'Temmuz', \n",
    "         'Ağustos', 'Eylül', 'Ekim', 'Kasım', 'Aralık'] \n"
   ]
  },
  {
   "cell_type": "code",
   "execution_count": 81,
   "id": "numerical-protection",
   "metadata": {},
   "outputs": [],
   "source": [
    "ay_gunsayisi = {'Ocak':31, 'Şubat':28, 'Mart':31, 'Nisan':30, 'Mayıs':31, 'Haziran':30, 'Temmuz':31, \n",
    "         'Ağustos':31, 'Eylül':30, 'Ekim':31, 'Kasım':30, 'Aralık':31}\n"
   ]
  },
  {
   "cell_type": "code",
   "execution_count": 82,
   "id": "fantastic-jackson",
   "metadata": {},
   "outputs": [
    {
     "name": "stdout",
     "output_type": "stream",
     "text": [
      "[('Ocak', 31), ('Şubat', 28), ('Mart', 31), ('Nisan', 30), ('Mayıs', 31), ('Haziran', 30), ('Temmuz', 31), ('Ağustos', 31), ('Eylül', 30), ('Ekim', 31), ('Kasım', 30), ('Aralık', 31)] \n",
      "\n"
     ]
    }
   ],
   "source": [
    "print(list(ay_gunsayisi.items()),'\\n')\n"
   ]
  },
  {
   "cell_type": "code",
   "execution_count": 94,
   "id": "electrical-greensboro",
   "metadata": {},
   "outputs": [],
   "source": [
    "new_list = [Aylar,list(ay_gunsayisi)]\n"
   ]
  },
  {
   "cell_type": "code",
   "execution_count": 95,
   "id": "annoying-concentrate",
   "metadata": {},
   "outputs": [
    {
     "name": "stdout",
     "output_type": "stream",
     "text": [
      "[['Ocak', 'Şubat', 'Mart', 'Nisan', 'Mayıs', 'Haziran', 'Temmuz', 'Ağustos', 'Eylül', 'Ekim', 'Kasım', 'Aralık'], ['Ocak', 'Şubat', 'Mart', 'Nisan', 'Mayıs', 'Haziran', 'Temmuz', 'Ağustos', 'Eylül', 'Ekim', 'Kasım', 'Aralık']]\n"
     ]
    }
   ],
   "source": [
    "print(new_list)"
   ]
  },
  {
   "cell_type": "code",
   "execution_count": 104,
   "id": "ordered-indianapolis",
   "metadata": {},
   "outputs": [],
   "source": [
    "ilkbahar = ['Mart', 'Nisan', 'Mayıs']\n",
    "yaz = ['Haziran', 'Temmuz','Ağustos']\n",
    "sonbahar = ['Eylül', 'Ekim', 'Kasım']\n",
    "kış = ['Aralık', 'Ocak', 'Şubat']\n",
    "mevsim_ayları = [ilkbahar, yaz, sonbahar, kış]\n",
    "yazuzunlugu = (ay_gunsayisi['Haziran'] +ay_gunsayisi['Temmuz'] + ay_gunsayisi['Ağustos'])"
   ]
  },
  {
   "cell_type": "code",
   "execution_count": 105,
   "id": "romance-happiness",
   "metadata": {},
   "outputs": [
    {
     "name": "stdout",
     "output_type": "stream",
     "text": [
      "92\n"
     ]
    }
   ],
   "source": [
    "print(yazuzunlugu)\n"
   ]
  },
  {
   "cell_type": "code",
   "execution_count": null,
   "id": "radical-macedonia",
   "metadata": {},
   "outputs": [],
   "source": []
  }
 ],
 "metadata": {
  "kernelspec": {
   "display_name": "Python 3",
   "language": "python",
   "name": "python3"
  },
  "language_info": {
   "codemirror_mode": {
    "name": "ipython",
    "version": 3
   },
   "file_extension": ".py",
   "mimetype": "text/x-python",
   "name": "python",
   "nbconvert_exporter": "python",
   "pygments_lexer": "ipython3",
   "version": "3.8.7rc1"
  }
 },
 "nbformat": 4,
 "nbformat_minor": 5
}
