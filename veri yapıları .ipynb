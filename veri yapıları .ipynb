{
 "cells": [
  {
   "cell_type": "code",
   "execution_count": 1,
   "id": "narrative-sheet",
   "metadata": {},
   "outputs": [
    {
     "name": "stdout",
     "output_type": "stream",
     "text": [
      "{'1.gün': 'pazartesi', '2.Gün': 'sali', '3.Gün': 'çarşamba', '4.Gün': 'perşembe', '5.Gün': 'cuma', '6.Gün': 'cumartesi', '7.Gün': 'pazar'}\n"
     ]
    }
   ],
   "source": [
    "days={\"1.gün\":\"pazartesi\",\"2.Gün\":\"sali\",\"3.Gün\":\"çarşamba\",\"4.Gün\":\"perşembe\",\"5.Gün\":\"cuma\",\"6.Gün\":\"cumartesi\",\"7.Gün\":\"pazar\"}\n",
    "print(days)"
   ]
  },
  {
   "cell_type": "code",
   "execution_count": 2,
   "id": "patent-cleaners",
   "metadata": {},
   "outputs": [
    {
     "name": "stdout",
     "output_type": "stream",
     "text": [
      "Lütfen gün seçiniz:  1\n",
      "Lütfen farklı bir gün seçiniz : 1\n"
     ]
    }
   ],
   "source": [
    "day_1 = input(\"Lütfen gün seçiniz:  \")\n",
    "day_2 = input(\"Lütfen farklı bir gün seçiniz : \")\n",
    "\n"
   ]
  },
  {
   "cell_type": "code",
   "execution_count": 3,
   "id": "offensive-marker",
   "metadata": {},
   "outputs": [
    {
     "ename": "IndentationError",
     "evalue": "expected an indented block (<ipython-input-3-10e5d9ff26da>, line 2)",
     "output_type": "error",
     "traceback": [
      "\u001b[1;36m  File \u001b[1;32m\"<ipython-input-3-10e5d9ff26da>\"\u001b[1;36m, line \u001b[1;32m2\u001b[0m\n\u001b[1;33m    del days[\"pazartesi\"]\u001b[0m\n\u001b[1;37m    ^\u001b[0m\n\u001b[1;31mIndentationError\u001b[0m\u001b[1;31m:\u001b[0m expected an indented block\n"
     ]
    }
   ],
   "source": [
    "if(day_1 == \"1\" or day_2 ==\"1\"):\n",
    "del days['pazartesi2]\n",
    "if(day_1 == \"2\" or day_2 ==\"2\"):\n",
    "del days[\"sali\"]\n",
    "if(day_1 == \"3\" or day_2 ==\"3\"):\n",
    "del days[\"çarşamba\"]\n",
    "if(day_1 == \"4\" or day_2 ==\"4\"):\n",
    "del days[\"perşembe\"]\n",
    "if(day_1 == \"5\" or day_2 ==\"5\"):\n",
    "del days[\"cuma\"]\n",
    "if(day_1 == \"6\" or day_2 ==\"6\"):\n",
    "del days[\"cumartesi\"]\n",
    "if(day_1 == \"7\"or day_2 ==\"7\"):\n",
    "del days[\"pazar\"]\n",
    "print(days)\n"
   ]
  },
  {
   "cell_type": "code",
   "execution_count": null,
   "id": "complete-brazilian",
   "metadata": {},
   "outputs": [],
   "source": [
    "Aylar = ['Ocak', 'Şubat', 'Mart', 'Nisan', 'Mayıs', 'Haziran', 'Temmuz', \n",
    "         'Ağustos', 'Eylül', 'Ekim', 'Kasım', 'Aralık'] \n"
   ]
  },
  {
   "cell_type": "code",
   "execution_count": null,
   "id": "numerical-protection",
   "metadata": {},
   "outputs": [],
   "source": [
    "ay_gunsayisi = {'Ocak':31, 'Şubat':28, 'Mart':31, 'Nisan':30, 'Mayıs':31, 'Haziran':30, 'Temmuz':31, \n",
    "         'Ağustos':31, 'Eylül':30, 'Ekim':31, 'Kasım':30, 'Aralık':31}\n"
   ]
  },
  {
   "cell_type": "code",
   "execution_count": null,
   "id": "fantastic-jackson",
   "metadata": {},
   "outputs": [],
   "source": [
    "print(list(ay_gunsayisi.items()),'\\n')\n"
   ]
  },
  {
   "cell_type": "code",
   "execution_count": null,
   "id": "electrical-greensboro",
   "metadata": {},
   "outputs": [],
   "source": [
    "new_list = [Aylar,ay_gunsayisi]\n",
    "print(new_list)"
   ]
  },
  {
   "cell_type": "code",
   "execution_count": null,
   "id": "ordered-indianapolis",
   "metadata": {},
   "outputs": [],
   "source": [
    "ilkbahar = ['Mart', 'Nisan', 'Mayıs']\n",
    "yaz = ['Haziran', 'Temmuz','Ağustos']\n",
    "sonbahar = ['Eylül', 'Ekim', 'Kasım']\n",
    "kış = ['Aralık', 'Ocak', 'Şubat']\n",
    "mevsim_ayları = [ilkbahar, yaz, sonbahar, kış]\n",
    "yazmevsimi = list(meyve_fiyatlari.values())\n",
    "yazuzunlugu = yazmevsimi[0] + yazmevsimi[1] +yazmevsimi[1]\n",
    "print(yazuzunlugu)\n"
   ]
  },
  {
   "cell_type": "code",
   "execution_count": null,
   "id": "behavioral-winter",
   "metadata": {},
   "outputs": [],
   "source": []
  }
 ],
 "metadata": {
  "kernelspec": {
   "display_name": "Python 3",
   "language": "python",
   "name": "python3"
  },
  "language_info": {
   "codemirror_mode": {
    "name": "ipython",
    "version": 3
   },
   "file_extension": ".py",
   "mimetype": "text/x-python",
   "name": "python",
   "nbconvert_exporter": "python",
   "pygments_lexer": "ipython3",
   "version": "3.8.7rc1"
  }
 },
 "nbformat": 4,
 "nbformat_minor": 5
}
