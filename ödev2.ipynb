{
 "cells": [
  {
   "cell_type": "code",
   "execution_count": 2,
   "id": "excessive-replica",
   "metadata": {},
   "outputs": [],
   "source": [
    "ana_para = 1000\n",
    "faiz_miktarı = (ana_para*12)/100\n",
    "haftalık_kar= (ana_para +faiz_miktarı)*7"
   ]
  },
  {
   "cell_type": "code",
   "execution_count": 4,
   "id": "coordinate-buying",
   "metadata": {},
   "outputs": [
    {
     "name": "stdout",
     "output_type": "stream",
     "text": [
      "Bir hafta sonuda kazandığınız faiz oranıyla birlikte paranız 7840.0 $ dır.\n",
      "Hafta başında 1000 dolarlık bitcoin aldığımızda günde ortalama %12 kazançla, bir hafta sonunda 7840.0 dolar kazanırdık\n"
     ]
    }
   ],
   "source": [
    "print(\"Bir hafta sonuda kazandığınız faiz oranıyla birlikte paranız\",haftalık_kar,\"$ dır.\")\n",
    "print(\"Hafta başında\",ana_para,\"dolarlık bitcoin aldığımızda günde ortalama %12 kazançla, bir hafta sonunda\", haftalık_kar ,\"dolar kazanırdık\")"
   ]
  },
  {
   "cell_type": "code",
   "execution_count": 6,
   "id": "different-darwin",
   "metadata": {},
   "outputs": [
    {
     "name": "stdout",
     "output_type": "stream",
     "text": [
      "Dosya adını girinizfile1\n",
      "Dosya Adınız file1 .py\n"
     ]
    }
   ],
   "source": [
    "file_name = input(\"Dosya adını giriniz\")\n",
    "print(\"Dosya Adınız {}\".format(file_name),\".py\")"
   ]
  },
  {
   "cell_type": "code",
   "execution_count": null,
   "id": "independent-orientation",
   "metadata": {},
   "outputs": [],
   "source": []
  }
 ],
 "metadata": {
  "kernelspec": {
   "display_name": "Python 3",
   "language": "python",
   "name": "python3"
  },
  "language_info": {
   "codemirror_mode": {
    "name": "ipython",
    "version": 3
   },
   "file_extension": ".py",
   "mimetype": "text/x-python",
   "name": "python",
   "nbconvert_exporter": "python",
   "pygments_lexer": "ipython3",
   "version": "3.8.7rc1"
  }
 },
 "nbformat": 4,
 "nbformat_minor": 5
}
